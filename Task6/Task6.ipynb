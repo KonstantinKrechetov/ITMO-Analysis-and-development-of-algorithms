{
 "cells": [
  {
   "cell_type": "code",
   "execution_count": 64,
   "metadata": {
    "collapsed": false
   },
   "outputs": [
   ],
   "source": [
    "import sys\n",
    "import random\n",
    "from time import time\n",
    "\n",
    "import numpy as np\n",
    "import pandas as pd\n",
    "import networkx as nx\n",
    "import matplotlib.pyplot as plt\n",
    "from pprint import pprint\n",
    "\n",
    "from pylab import rcParams\n",
    "rcParams['figure.figsize'] = 25, 25\n",
    "np.set_printoptions(threshold=10000)"
   ]
  },
  {
   "cell_type": "code",
   "execution_count": 65,
   "metadata": {
    "collapsed": false
   },
   "outputs": [
   ],
   "source": [
    "#Task 1\n",
    "N = 100 # Nodes\n",
    "M = 500 # Edges"
   ]
  },
  {
   "cell_type": "code",
   "execution_count": 66,
   "metadata": {
    "collapsed": false
   },
   "outputs": [
   ],
   "source": [
    "graph = nx.generators.random_graphs.gnm_random_graph(N, M)\n",
    "adjacency_matrix = nx.adjacency_matrix(graph).todense()"
   ]
  },
  {
   "cell_type": "code",
   "execution_count": 67,
   "metadata": {
    "collapsed": false
   },
   "outputs": [
   ],
   "source": [
    "for e in graph.edges():\n",
    "    graph[e[0]][e[1]]['weight'] = np.random.randint(1, 20)"
   ]
  },
  {
   "cell_type": "code",
   "execution_count": 68,
   "metadata": {
    "collapsed": false
   },
   "outputs": [
   ],
   "source": [
    "start_index = np.random.randint(len(graph.nodes))\n",
    "start_node= np.array(graph.nodes)[start_index]\n",
    "finish_nodes = np.random.choice(len(graph.nodes), 100)"
   ]
  },
  {
   "cell_type": "code",
   "execution_count": 69,
   "metadata": {
    "collapsed": false
   },
   "outputs": [
   ],
   "source": [
    "results = pd.DataFrame({'Start node': [],\n",
    "                        'Dijkstra\\'s': [],\n",
    "                        'Bellman_ford': [],\n",
    "                        'Bellman_ford slower than Dijkstra (times)': [],\n",
    "                        'Finish nodes': []})"
   ]
  },
  {
   "cell_type": "code",
   "execution_count": 70,
   "metadata": {
    "collapsed": false
   },
   "outputs": [
   ],
   "source": [
    "dj_times = []\n",
    "bf_times = []\n",
    "\n",
    "for finish_node in finish_nodes:\n",
    "    start_dj = time()\n",
    "    dijkstra_path = nx.dijkstra_path(graph, start_node, finish_node)\n",
    "    end_dj = time()\n",
    "    bellman_ford_path = nx.bellman_ford_path(graph, start_node, finish_node)\n",
    "    end_bf = time()\n",
    "    dj_times.append(end_dj - start_dj)\n",
    "    bf_times.append(end_bf - end_dj)\n",
    "    \n",
    "dj_mid = sum(dj_times)/len(dj_times)\n",
    "bf_mid = sum(bf_times)/len(bf_times)\n",
    "results = results.append({'Start node': str(start_node),\n",
    "                        'Dijkstra\\'s': dj_mid,\n",
    "                        'Bellman_ford': bf_mid,\n",
    "                        'Bellman_ford slower than Dijkstra (times)': bf_mid/dj_mid,\n",
    "                        'Finish nodes': finish_nodes}, ignore_index=True)"
   ]
  },
  {
   "cell_type": "code",
   "execution_count": 71,
   "metadata": {
    "collapsed": false
   },
   "outputs": [
    {
     "data": {
      "text/html": [
       "<div>\n",
       "<style scoped>\n",
       "    .dataframe tbody tr th:only-of-type {\n",
       "        vertical-align: middle;\n",
       "    }\n",
       "\n",
       "    .dataframe tbody tr th {\n",
       "        vertical-align: top;\n",
       "    }\n",
       "\n",
       "    .dataframe thead th {\n",
       "        text-align: right;\n",
       "    }\n",
       "</style>\n",
       "<table border=\"1\" class=\"dataframe\">\n",
       "  <thead>\n",
       "    <tr style=\"text-align: right;\">\n",
       "      <th></th>\n",
       "      <th>Start node</th>\n",
       "      <th>Dijkstra's</th>\n",
       "      <th>Bellman_ford</th>\n",
       "      <th>Bellman_ford slower than Dijkstra (times)</th>\n",
       "      <th>Finish nodes</th>\n",
       "    </tr>\n",
       "  </thead>\n",
       "  <tbody>\n",
       "    <tr>\n",
       "      <th>0</th>\n",
       "      <td>20</td>\n",
       "      <td>0.000839</td>\n",
       "      <td>0.002837</td>\n",
       "      <td>3.383032</td>\n",
       "      <td>[11, 30, 12, 94, 5, 94, 78, 70, 93, 95, 49, 3,...</td>\n",
       "    </tr>\n",
       "  </tbody>\n",
       "</table>\n",
       "</div>"
      ],
      "text/plain": [
       "  Start node  Dijkstra's  Bellman_ford  \\\n",
       "0         20    0.000839      0.002837   \n",
       "\n",
       "   Bellman_ford slower than Dijkstra (times)  \\\n",
       "0                                   3.383032   \n",
       "\n",
       "                                        Finish nodes  \n",
       "0  [11, 30, 12, 94, 5, 94, 78, 70, 93, 95, 49, 3,...  "
      ]
     },
     "execution_count": 71,
     "metadata": {
     },
     "output_type": "execute_result"
    }
   ],
   "source": [
    "results"
   ]
  },
  {
   "cell_type": "code",
   "execution_count": 72,
   "metadata": {
    "collapsed": false
   },
   "outputs": [
   ],
   "source": [
    "#Task 2\n",
    "G = nx.generators.lattice.grid_graph(dim=[range(10), range(10)])"
   ]
  },
  {
   "cell_type": "code",
   "execution_count": 73,
   "metadata": {
    "collapsed": false
   },
   "outputs": [
    {
     "name": "stdout",
     "output_type": "stream",
     "text": [
      "Deleted nodes:\n",
      " [(4, 7), (1, 5), (9, 5), (6, 1), (6, 7), (2, 8), (2, 3), (5, 8), (6, 3), (1, 9), (5, 9), (8, 2), (0, 1), (8, 5), (6, 6), (1, 2), (6, 5), (9, 7), (2, 0), (3, 3), (0, 4), (1, 3), (0, 4), (1, 2), (1, 6), (6, 1), (8, 2), (3, 9), (2, 0), (7, 3)]\n"
     ]
    }
   ],
   "source": [
    "nodes_to_del = [(node // 10, node % 10) for node in np.random.choice(10 * 10, 30)]\n",
    "print('Deleted nodes:\\n', nodes_to_del)\n",
    "G.remove_nodes_from(nodes_to_del)"
   ]
  },
  {
   "cell_type": "code",
   "execution_count": 74,
   "metadata": {
    "collapsed": false
   },
   "outputs": [
   ],
   "source": [
    "df = pd.DataFrame({'Start node': [],\n",
    "                   'End node' : [],\n",
    "                   'Time': [],\n",
    "                   'Path': []})"
   ]
  },
  {
   "cell_type": "code",
   "execution_count": 75,
   "metadata": {
    "collapsed": false
   },
   "outputs": [
    {
     "data": {
      "text/html": [
       "<div>\n",
       "<style scoped>\n",
       "    .dataframe tbody tr th:only-of-type {\n",
       "        vertical-align: middle;\n",
       "    }\n",
       "\n",
       "    .dataframe tbody tr th {\n",
       "        vertical-align: top;\n",
       "    }\n",
       "\n",
       "    .dataframe thead th {\n",
       "        text-align: right;\n",
       "    }\n",
       "</style>\n",
       "<table border=\"1\" class=\"dataframe\">\n",
       "  <thead>\n",
       "    <tr style=\"text-align: right;\">\n",
       "      <th></th>\n",
       "      <th>Start node</th>\n",
       "      <th>End node</th>\n",
       "      <th>Time</th>\n",
       "      <th>Path</th>\n",
       "    </tr>\n",
       "  </thead>\n",
       "  <tbody>\n",
       "    <tr>\n",
       "      <th>0</th>\n",
       "      <td>[4, 3]</td>\n",
       "      <td>[8, 8]</td>\n",
       "      <td>0.000437</td>\n",
       "      <td>[(4, 3), (5, 3), (5, 4), (6, 4), (7, 4), (7, 5...</td>\n",
       "    </tr>\n",
       "    <tr>\n",
       "      <th>1</th>\n",
       "      <td>[6, 4]</td>\n",
       "      <td>[7, 4]</td>\n",
       "      <td>0.000104</td>\n",
       "      <td>[(6, 4), (7, 4)]</td>\n",
       "    </tr>\n",
       "    <tr>\n",
       "      <th>2</th>\n",
       "      <td>[6, 4]</td>\n",
       "      <td>[2, 2]</td>\n",
       "      <td>0.000323</td>\n",
       "      <td>[(6, 4), (5, 4), (4, 4), (4, 3), (4, 2), (3, 2...</td>\n",
       "    </tr>\n",
       "    <tr>\n",
       "      <th>3</th>\n",
       "      <td>[3, 7]</td>\n",
       "      <td>[9, 1]</td>\n",
       "      <td>0.000442</td>\n",
       "      <td>[(3, 7), (3, 6), (3, 5), (3, 4), (4, 4), (4, 3...</td>\n",
       "    </tr>\n",
       "    <tr>\n",
       "      <th>4</th>\n",
       "      <td>[4, 0]</td>\n",
       "      <td>[1, 7]</td>\n",
       "      <td>0.000346</td>\n",
       "      <td>[(4, 0), (4, 1), (4, 2), (4, 3), (4, 4), (3, 4...</td>\n",
       "    </tr>\n",
       "    <tr>\n",
       "      <th>5</th>\n",
       "      <td>[0, 7]</td>\n",
       "      <td>[8, 4]</td>\n",
       "      <td>0.000280</td>\n",
       "      <td>[(0, 7), (1, 7), (2, 7), (2, 6), (2, 5), (2, 4...</td>\n",
       "    </tr>\n",
       "    <tr>\n",
       "      <th>6</th>\n",
       "      <td>[0, 8]</td>\n",
       "      <td>[8, 7]</td>\n",
       "      <td>0.000425</td>\n",
       "      <td>[(0, 8), (0, 7), (1, 7), (2, 7), (2, 6), (2, 5...</td>\n",
       "    </tr>\n",
       "    <tr>\n",
       "      <th>7</th>\n",
       "      <td>[2, 5]</td>\n",
       "      <td>[8, 3]</td>\n",
       "      <td>0.000442</td>\n",
       "      <td>[(2, 5), (2, 4), (3, 4), (4, 4), (5, 4), (6, 4...</td>\n",
       "    </tr>\n",
       "    <tr>\n",
       "      <th>8</th>\n",
       "      <td>[6, 4]</td>\n",
       "      <td>[6, 0]</td>\n",
       "      <td>0.000421</td>\n",
       "      <td>[(6, 4), (5, 4), (5, 3), (5, 2), (5, 1), (5, 0...</td>\n",
       "    </tr>\n",
       "    <tr>\n",
       "      <th>9</th>\n",
       "      <td>[3, 0]</td>\n",
       "      <td>[9, 3]</td>\n",
       "      <td>0.000324</td>\n",
       "      <td>[(3, 0), (4, 0), (5, 0), (6, 0), (7, 0), (8, 0...</td>\n",
       "    </tr>\n",
       "  </tbody>\n",
       "</table>\n",
       "</div>"
      ],
      "text/plain": [
       "  Start node End node      Time  \\\n",
       "0     [4, 3]   [8, 8]  0.000437   \n",
       "1     [6, 4]   [7, 4]  0.000104   \n",
       "2     [6, 4]   [2, 2]  0.000323   \n",
       "3     [3, 7]   [9, 1]  0.000442   \n",
       "4     [4, 0]   [1, 7]  0.000346   \n",
       "5     [0, 7]   [8, 4]  0.000280   \n",
       "6     [0, 8]   [8, 7]  0.000425   \n",
       "7     [2, 5]   [8, 3]  0.000442   \n",
       "8     [6, 4]   [6, 0]  0.000421   \n",
       "9     [3, 0]   [9, 3]  0.000324   \n",
       "\n",
       "                                                Path  \n",
       "0  [(4, 3), (5, 3), (5, 4), (6, 4), (7, 4), (7, 5...  \n",
       "1                                   [(6, 4), (7, 4)]  \n",
       "2  [(6, 4), (5, 4), (4, 4), (4, 3), (4, 2), (3, 2...  \n",
       "3  [(3, 7), (3, 6), (3, 5), (3, 4), (4, 4), (4, 3...  \n",
       "4  [(4, 0), (4, 1), (4, 2), (4, 3), (4, 4), (3, 4...  \n",
       "5  [(0, 7), (1, 7), (2, 7), (2, 6), (2, 5), (2, 4...  \n",
       "6  [(0, 8), (0, 7), (1, 7), (2, 7), (2, 6), (2, 5...  \n",
       "7  [(2, 5), (2, 4), (3, 4), (4, 4), (5, 4), (6, 4...  \n",
       "8  [(6, 4), (5, 4), (5, 3), (5, 2), (5, 1), (5, 0...  \n",
       "9  [(3, 0), (4, 0), (5, 0), (6, 0), (7, 0), (8, 0...  "
      ]
     },
     "execution_count": 75,
     "metadata": {
     },
     "output_type": "execute_result"
    }
   ],
   "source": [
    "N_EXPERIMENTS = 10\n",
    "for n in range(N_EXPERIMENTS):\n",
    "    idx_1, idx_2 = random.sample(range(len(G.nodes)), 2)\n",
    "    node_1, node_2 = np.array(G.nodes)[idx_1], np.array(G.nodes)[idx_2]\n",
    "    \n",
    "    start_time = time()\n",
    "    path = nx.astar_path(G, tuple(node_1), tuple(node_2))\n",
    "    end_time = time()\n",
    "    \n",
    "    t = end_time - start_time\n",
    "    df = df.append({'Start node': node_1,'End node' : node_2,'Time': t,'Path': path}, ignore_index=True)\n",
    "df"
   ]
  },
  {
   "cell_type": "code",
   "execution_count": 76,
   "metadata": {
    "collapsed": false
   },
   "outputs": [
    {
     "name": "stdout",
     "output_type": "stream",
     "text": [
      "Avg time: 0.0003543376922607422\n"
     ]
    }
   ],
   "source": [
    "print(\"Avg time: \" + str(df['Time'].mean()))"
   ]
  },
  {
   "cell_type": "code",
   "execution_count": 0,
   "metadata": {
    "collapsed": false
   },
   "outputs": [
   ],
   "source": [
   ]
  }
 ],
 "metadata": {
  "kernelspec": {
   "display_name": "Python 3 (system-wide)",
   "language": "python",
   "metadata": {
    "cocalc": {
     "description": "Python 3 programming language",
     "priority": 100,
     "url": "https://www.python.org/"
    }
   },
   "name": "python3"
  },
  "language_info": {
   "codemirror_mode": {
    "name": "ipython",
    "version": 3
   },
   "file_extension": ".py",
   "mimetype": "text/x-python",
   "name": "python",
   "nbconvert_exporter": "python",
   "pygments_lexer": "ipython3",
   "version": "3.8.5"
  }
 },
 "nbformat": 4,
 "nbformat_minor": 4
}